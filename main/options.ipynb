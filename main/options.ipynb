{
 "cells": [
  {
   "cell_type": "code",
   "execution_count": null,
   "metadata": {},
   "outputs": [],
   "source": [
    "import argparse\n"
   ]
  },
  {
   "cell_type": "code",
   "execution_count": null,
   "metadata": {},
   "outputs": [],
   "source": [
    "\n",
    "class Options():\n",
    "    def __init__(self):\n",
    "        self.parser = argparse.ArgumentParser(formatter_class=argparse.ArgumentDefaultsHelpFormatter,description='Wav2Mov | End to End Speech to facial animation model')\n",
    "        \n",
    "        self.parser.add_argument('--log',default='y',\n",
    "                            choices=['y','n','yes','no'],\n",
    "                            type=str,help='whether to initialize logger')\n",
    "        \n",
    "        self.parser.add_argument('--train',default='n',\n",
    "                            choices=['y','n','yes','no'],\n",
    "                            type=str,help='whether to train the model')\n",
    "        \n",
    "        self.parser.add_argument('--test',default='n',\n",
    "                            choices=['y','n','yes','no'],\n",
    "                            type=str,help='run test script')\n",
    "        \n",
    "        self.parser.add_argument('--preprocess',default='n',\n",
    "                            choices=['y','n','yes','no'],\n",
    "                            type=str,help='run preprocess script')\n",
    "        \n",
    "        self.parser.add_argument('--device',default='cuda',\n",
    "                            choices=['cpu','cuda'],\n",
    "                            type=str,help='device where processing should be done')\n",
    "        \n",
    "        self.parser.add_argument('--model_path','-path',\n",
    "                            type=str,help='generator checkpoint fullpath')\n",
    "        \n",
    "        self.parser.add_argument('--num_videos','-v',\n",
    "                            type=int,help='num of videos on which the model should be trained')\n",
    "        \n",
    "        \n",
    "        self.parser.add_argument('--msg','-m',type=str,help='any message about current run')\n",
    "        \n",
    "    def parse(self):\n",
    "        return self.parser.parse_args()\n",
    "    "
   ]
  }
 ],
 "metadata": {
  "kernelspec": {
   "display_name": "Python 3",
   "language": "python",
   "name": "python3"
  },
  "language_info": {
   "codemirror_mode": {
    "name": "ipython",
    "version": 3
   },
   "file_extension": ".py",
   "mimetype": "text/x-python",
   "name": "python",
   "nbconvert_exporter": "python",
   "pygments_lexer": "ipython3",
   "version": "3.7.2"
  }
 },
 "nbformat": 4,
 "nbformat_minor": 2
}
