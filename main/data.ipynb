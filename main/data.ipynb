{
 "cells": [
  {
   "cell_type": "code",
   "execution_count": null,
   "metadata": {},
   "outputs": [],
   "source": [
    "\"\"\" provides utils for datasets and dataloaders \"\"\""
   ]
  },
  {
   "cell_type": "code",
   "execution_count": null,
   "metadata": {},
   "outputs": [],
   "source": [
    "\n",
    "import torch\n",
    "from torchvision import transforms as vtransforms\n",
    "from tqdm import tqdm\n",
    "from collections import namedtuple\n",
    "from torch.utils.data import DataLoader,random_split\n",
    "from wav2mov.core.data.datasets import AudioVideoDataset\n"
   ]
  },
  {
   "cell_type": "code",
   "execution_count": null,
   "metadata": {},
   "outputs": [],
   "source": [
    "\n",
    "\n",
    "DataloadersPack = namedtuple('dataloaders',('train','val'))\n",
    "\n",
    "\n",
    "TO_Grayscale = vtransforms.Grayscale(1)"
   ]
  },
  {
   "cell_type": "code",
   "execution_count": null,
   "metadata": {},
   "outputs": [],
   "source": [
    "\n",
    "def get_mean_and_std(dataloader,img_channels,attr):\n",
    "    #mean = E(X)\n",
    "    #variance = E(X**2)- E(X)**2\n",
    "    #standard deviation = variance**0.5\n",
    "    print('[DEBUG] Calculating mean and standard deviation for the dataset.Please wait...')\n",
    "    channels_sum,channels_squared_sum,num_batches = 0,0,0\n",
    "    # num_items = 0\n",
    "    for sample in tqdm(dataloader,ascii=True,total=len(dataloader)):\n",
    "        data = getattr(sample,attr)\n",
    "        data = data/255 #of shape (N,F,H,W,C)\n",
    "        if img_channels==1:\n",
    "            data = data.permute(0,1,4,2,3)\n",
    "            data = TO_Grayscale(data)\n",
    "            data  = data.permute(0,1,3,4,2)\n",
    "        # print(data.shape)\n",
    "        channels_sum += torch.mean(data,dim=[0,1,2,3])\n",
    "        #except for the channel dimension as we want mean and std \n",
    "        # for each channel\n",
    "        channels_squared_sum += torch.mean(data**2,dim=[0,1,2,3])\n",
    "        # num_items += data.shape[0]\n",
    "        num_batches += 1\n",
    "    mean = channels_sum/num_batches     \n",
    "    # print(channels_squared_sum,mean,channels_squared_sum/num_batches)\n",
    "    std = ((channels_squared_sum/num_batches) - mean**2)**0.5\n",
    "    # print(mean,std)\n",
    "    return mean,std"
   ]
  },
  {
   "cell_type": "code",
   "execution_count": null,
   "metadata": {},
   "outputs": [],
   "source": [
    "\n",
    "\n",
    "def get_dataloaders(config,params,shuffle=True,get_mean_std=True):\n",
    "    hparams = params['data']\n",
    "    root_dir = config['train_test_dataset_dir']\n",
    "    filenames_txt = config['filenames_txt']\n",
    "    batch_size = hparams['batch_size']\n",
    "    video_fps = hparams['video_fps']\n",
    "    audio_sf = hparams[\"audio_sf\"]\n",
    "    dataset = AudioVideoDataset(root_dir=root_dir,filenames_text_filepath=filenames_txt,audio_sf=audio_sf,video_fps=video_fps)\n",
    "    N = len(dataset)\n",
    "    print(f'total videos : {N}')\n",
    "    train_sz = (N*9)//10\n",
    "    test_sz = N-train_sz\n",
    "    train_ds , test_ds = random_split(dataset,[train_sz,test_sz])\n",
    "    train_dl = DataLoader(train_ds,batch_size=batch_size,shuffle=shuffle,pin_memory=True)\n",
    "    test_dl = DataLoader(test_ds,batch_size=batch_size,shuffle=shuffle)\n",
    "    \n",
    "    if not all(hparams.get(item,None) for item in ('mean','std')):\n",
    "        mean,std = get_mean_and_std(train_dl,params['img_channels'],'video')\n",
    "        hparams['mean'] = [value for value in mean.tolist() ]\n",
    "        hparams['std'] = [value for value in std.tolist() ]\n",
    "        params.update('data',hparams)\n",
    "    \n",
    "    return DataloadersPack(train_dl,test_dl),hparams['mean'],hparams['std']\n",
    "\n"
   ]
  },
  {
   "cell_type": "code",
   "execution_count": null,
   "metadata": {},
   "outputs": [],
   "source": []
  },
  {
   "cell_type": "code",
   "execution_count": null,
   "metadata": {},
   "outputs": [],
   "source": []
  }
 ],
 "metadata": {
  "kernelspec": {
   "display_name": "Python 3",
   "language": "python",
   "name": "python3"
  },
  "language_info": {
   "codemirror_mode": {
    "name": "ipython",
    "version": 3
   },
   "file_extension": ".py",
   "mimetype": "text/x-python",
   "name": "python",
   "nbconvert_exporter": "python",
   "pygments_lexer": "ipython3",
   "version": "3.7.2"
  }
 },
 "nbformat": 4,
 "nbformat_minor": 2
}
