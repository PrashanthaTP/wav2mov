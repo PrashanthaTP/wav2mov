{
 "cells": [
  {
   "cell_type": "code",
   "execution_count": null,
   "metadata": {},
   "outputs": [],
   "source": [
    "import torch \n",
    "from torch import nn,optim\n",
    "from torch.nn import functional as F\n"
   ]
  },
  {
   "cell_type": "code",
   "execution_count": null,
   "metadata": {},
   "outputs": [],
   "source": [
    "from iwav2mov.core.models.base_model import BaseModel\n",
    "from iwav2mov.models.utils import init_net"
   ]
  },
  {
   "cell_type": "code",
   "execution_count": null,
   "metadata": {},
   "outputs": [],
   "source": [
    "\n",
    "\n",
    "\n",
    "class Block(nn.Module):\n",
    "    def __init__(self,in_ch,out_ch,kernel,stride,padding,is_final_layer=False):\n",
    "        super().__init__()\n",
    "        self.conv1 = nn.Conv2d(in_ch,in_ch*2,kernel,stride,padding)\n",
    "        # self.norm = nn.BatchNorm2d(in_ch*2)\n",
    "        self.conv2 = nn.Conv2d(in_ch*2,out_ch,kernel,stride,padding)\n",
    "        self.is_final_layer = is_final_layer\n",
    "    def forward(self,x):\n",
    "        if self.is_final_layer:\n",
    "            return self.conv2(F.relu(self.norm(self.conv1(x))))\n",
    "\n",
    "        return F.relu(self.conv2(F.relu(self.norm(self.conv1(x)))))\n",
    "    "
   ]
  },
  {
   "cell_type": "code",
   "execution_count": null,
   "metadata": {},
   "outputs": [],
   "source": [
    "\n",
    "\n",
    "#Current Frame Image and Still Image\n",
    "class IdentityDiscriminator(BaseModel):\n",
    "    \"\"\"[summary]\n",
    "        >>> super().__init__()\n",
    "        >>> chs = (6,16,32,1)\n",
    "        >>> self.blocks = nn.ModuleList([Block(chs[i],chs[i+1],4,2,1) for i in range(len(chs)-1)])\n",
    "        >>> # blocks = [Block(chs[i],chs[i+1],4,2,1) for i in range(len(chs)-1)]\n",
    "        >>> self.desc = nn.Sequential(*self.blocks)\n",
    "\n",
    "        >>> x = torch.cat([x,y],dim=1)\n",
    "        >>> # return self.desc(x)\n",
    "        >>> for block in self.blocks:\n",
    "        >>>     x = block(x)\n",
    "        >>> return x.reshape(x.shape[0],-1)\n",
    "    \n",
    "    \"\"\"\n",
    "    def __init__(self,hparams):\n",
    "        super().__init__()\n",
    "        self.hparams = hparams\n",
    "        chs = [self.hparams['in_channels']*2]+self.hparams['chs']\n",
    "        self.blocks = nn.ModuleList(nn.Sequential(nn.Conv2d(chs[i],chs[i+1],4,2,1),nn.ReLU()) for i in range(len(chs)-2))\n",
    "        # blocks = [Block(chs[i],chs[i+1],4,2,1) for i in range(len(chs)-1)]\n",
    "    \n",
    "        self.desc = nn.Sequential(*self.blocks, nn.Conv2d(chs[-2], chs[-1], 4, 2, 1))\n",
    "        \n",
    "    def forward(self,x,y):\n",
    "        \"\"\"\n",
    "        x : frame image \n",
    "        y : still image\n",
    "        \"\"\"\n",
    "        x = torch.cat([x,y],dim=1)\n",
    "        # return self.desc(x)\n",
    "        # for block in self.blocks:\n",
    "        #     x = block(x)\n",
    "        # return x.reshape(x.shape[0],-1)\n",
    "        return self.desc(x)\n",
    "    \n",
    "    def get_optimizer(self):\n",
    "        return optim.Adam(self.parameters(), lr=self.hparams['lr'], betas=(0.5,0.999))"
   ]
  },
  {
   "cell_type": "code",
   "execution_count": null,
   "metadata": {},
   "outputs": [],
   "source": []
  },
  {
   "cell_type": "code",
   "execution_count": null,
   "metadata": {},
   "outputs": [],
   "source": []
  },
  {
   "cell_type": "code",
   "execution_count": null,
   "metadata": {},
   "outputs": [],
   "source": []
  },
  {
   "cell_type": "code",
   "execution_count": null,
   "metadata": {},
   "outputs": [],
   "source": []
  },
  {
   "cell_type": "code",
   "execution_count": null,
   "metadata": {},
   "outputs": [],
   "source": []
  }
 ],
 "metadata": {
  "kernelspec": {
   "display_name": "Python 3",
   "language": "python",
   "name": "python3"
  },
  "language_info": {
   "codemirror_mode": {
    "name": "ipython",
    "version": 3
   },
   "file_extension": ".py",
   "mimetype": "text/x-python",
   "name": "python",
   "nbconvert_exporter": "python",
   "pygments_lexer": "ipython3",
   "version": "3.7.2"
  }
 },
 "nbformat": 4,
 "nbformat_minor": 2
}