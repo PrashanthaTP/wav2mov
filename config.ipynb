{
 "metadata": {
  "language_info": {
   "codemirror_mode": {
    "name": "ipython",
    "version": 3
   },
   "file_extension": ".py",
   "mimetype": "text/x-python",
   "name": "python",
   "nbconvert_exporter": "python",
   "pygments_lexer": "ipython3",
   "version": 3
  },
  "orig_nbformat": 2
 },
 "nbformat": 4,
 "nbformat_minor": 2,
 "cells": [
  {
   "cell_type": "code",
   "execution_count": null,
   "metadata": {},
   "outputs": [],
   "source": [
    "\"\"\"Config\"\"\""
   ]
  },
  {
   "cell_type": "code",
   "execution_count": null,
   "metadata": {},
   "outputs": [],
   "source": [
    "\n",
    "import json\n",
    "import os\n",
    "import logging \n",
    "from datetime import datetime\n",
    "\n",
    "logger = logging.getLogger(__name__)\n",
    "\n",
    "BASE_DIR = os.path.dirname(os.path.abspath(__file__))"
   ]
  },
  {
   "cell_type": "code",
   "execution_count": null,
   "metadata": {},
   "outputs": [],
   "source": [
    "def get_curr_run_str():\n",
    "    now = datetime.now()\n",
    "    date,time = now.date(),now.time()\n",
    "    day,month,year = date.day,date.month,date.year\n",
    "    hour , minutes = time.hour,time.minute\n",
    "    return 'Run_{}_{}_{}__{}_{}'.format(day,month,year,hour,minutes)"
   ]
  },
  {
   "cell_type": "code",
   "execution_count": null,
   "metadata": {},
   "outputs": [],
   "source": [
    "\n",
    "class Config :\n",
    "    def __init__(self):\n",
    "        self.vals = {'base_dir':BASE_DIR}\n",
    "        self.version = get_curr_run_str()\n",
    "        #these two are used to decide whether to create a path using os.makedirs\n",
    "        self.fixed_paths = set()\n",
    "        self.runtime_paths = set()\n",
    "     \n",
    "    def _rectify_paths(self,val):\n",
    "        return val % {'base_dir': self.vals['base_dir'],\n",
    "                      'version': self.version,\n",
    "                      'checkpoint_filename': 'checkpoint_'+self.version,\n",
    "                      'log_filename': 'log_' + self.version\n",
    "                      }\n",
    "    \n",
    "    def _flatten_dict(self,d):\n",
    "        flattened= {}\n",
    "        for k,v in d.items():\n",
    "            if isinstance(v,dict):\n",
    "                inner_d = self._flatten_dict(v)\n",
    "                for k_inner in inner_d.keys():\n",
    "                    if k== 'fixed': self.fixed_paths.add(k_inner)\n",
    "                    else: self.runtime_paths.add(k_inner)\n",
    "                    \n",
    "                flattened = {**flattened,**inner_d}\n",
    "            else:\n",
    "                flattened[k] = v\n",
    "        return flattened\n",
    "                \n",
    "    def _update_vals_from_dict(self,d:dict):\n",
    "        \n",
    "        d = self._flatten_dict(d)\n",
    "        for key,val in d.items():\n",
    "            if isinstance(val,str):\n",
    "                value = self._rectify_paths(val)\n",
    "                \n",
    "            else:\n",
    "                value = val\n",
    "\n",
    "            # setattr(self,key,val)\n",
    "            self.vals[key] = value\n",
    "            \n",
    "    @classmethod\n",
    "    def from_json(cls,json_file_fullpath):\n",
    "        with open(json_file_fullpath,'r') as file:\n",
    "            configs = json.load(file)\n",
    "            obj = cls()\n",
    "            obj._update_vals_from_dict(configs)\n",
    "            return obj\n",
    "    \n",
    "    def __getitem__(self,item):\n",
    "        if item not in self.vals:\n",
    "            logger.error(f'{self.__class__.__name__}  object has no key called {item}')\n",
    "            raise KeyError('No key called ',item)\n",
    "        if item in self.fixed_paths:\n",
    "            return self.vals[item]\n",
    "        if 'fullpath' in item or 'dir' in item:\n",
    "            path = os.path.dirname(self.vals[item]) if '.' in os.path.basename(self.vals[item]) else self.vals[item]\n",
    "            os.makedirs(path,exist_ok=True)\n",
    "            logger.debug(f'directory created/accessed : {path}')\n",
    "        return self.vals[item]\n",
    "\n",
    "    \n",
    "\n"
   ]
  },
  {
   "cell_type": "code",
   "execution_count": null,
   "metadata": {},
   "outputs": [],
   "source": [
    "config = Config.from_json(os.path.join(BASE_DIR,'config.json'))\n",
    "if __name__=='__main__':\n",
    "    pass"
   ]
  }
 ]
}