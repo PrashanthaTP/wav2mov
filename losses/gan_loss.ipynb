{
 "cells": [
  {
   "cell_type": "code",
   "execution_count": null,
   "metadata": {},
   "outputs": [],
   "source": [
    "import torch \n",
    "from torch import nn \n"
   ]
  },
  {
   "cell_type": "code",
   "execution_count": null,
   "metadata": {},
   "outputs": [],
   "source": [
    "\n",
    "class GANLoss(nn.Module):\n",
    "    \"\"\" To abstract away the task of creating real/fake labels and calculating loss\n",
    "    [Reference]: https://github.com/junyanz/pytorch-CycleGAN-and-pix2pix/blob/master/models/networks.py\n",
    "    \n",
    "    \"\"\"\n",
    "    \n",
    "    def __init__(self,device,real_label=1.0,fake_label=0.0):\n",
    "        super().__init__()\n",
    "        self.register_buffer('real_label',torch.tensor(real_label))\n",
    "        self.register_buffer('fake_label',torch.tensor(fake_label))\n",
    "        self.loss = nn.BCEWithLogitsLoss()\n",
    "        self.device = device \n",
    "        \n",
    "    def get_target_tensor(self,preds,is_real_target):\n",
    "        target_tensor = self.real_label if is_real_target else self.fake_label\n",
    "        return target_tensor.expand_as(preds).to(self.device)\n",
    "    \n",
    "    def forward(self,preds,is_real_target):\n",
    "        target_tensor = self.get_target_tensor(preds,is_real_target)\n",
    "        return self.loss(preds,target_tensor)    \n",
    "        \n"
   ]
  }
 ],
 "metadata": {
  "kernelspec": {
   "display_name": "Python 3",
   "language": "python",
   "name": "python3"
  },
  "language_info": {
   "codemirror_mode": {
    "name": "ipython",
    "version": 3
   },
   "file_extension": ".py",
   "mimetype": "text/x-python",
   "name": "python",
   "nbconvert_exporter": "python",
   "pygments_lexer": "ipython3",
   "version": "3.7.2"
  }
 },
 "nbformat": 4,
 "nbformat_minor": 2
}
