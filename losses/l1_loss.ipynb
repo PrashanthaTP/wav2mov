{
 "cells": [
  {
   "cell_type": "code",
   "execution_count": null,
   "metadata": {},
   "outputs": [],
   "source": [
    "import torch\n",
    "from torch import nn"
   ]
  },
  {
   "cell_type": "code",
   "execution_count": null,
   "metadata": {},
   "outputs": [],
   "source": [
    "\n",
    "\n",
    "class L1_Loss(nn.Module):\n",
    "    def __init__(self):\n",
    "        super().__init__()\n",
    "        self.loss = nn.L1Loss()\n",
    "    def forward(self,preds,targets):\n",
    "        \"\"\"\n",
    "        preds and targets are of the shape = (N,C,H,W)\n",
    "        \"\"\"\n",
    "        # height = preds.shape[-2]\n",
    "        # preds = preds[...,height//2:,:]\n",
    "        # targets = targets[...,height//2:,:]\n",
    "        # # print(torch.mean(abs(preds-targets)).shape) #torch.size([])\n",
    "        # return torch.mean(abs(preds-targets))#get mean of error of all batch samples\n",
    "        \n",
    "        return self.loss(preds,targets)"
   ]
  }
 ],
 "metadata": {
  "kernelspec": {
   "display_name": "Python 3",
   "language": "python",
   "name": "python3"
  },
  "language_info": {
   "codemirror_mode": {
    "name": "ipython",
    "version": 3
   },
   "file_extension": ".py",
   "mimetype": "text/x-python",
   "name": "python",
   "nbconvert_exporter": "python",
   "pygments_lexer": "ipython3",
   "version": "3.7.2"
  }
 },
 "nbformat": 4,
 "nbformat_minor": 2
}
