{
 "metadata": {
  "language_info": {
   "codemirror_mode": {
    "name": "ipython",
    "version": 3
   },
   "file_extension": ".py",
   "mimetype": "text/x-python",
   "name": "python",
   "nbconvert_exporter": "python",
   "pygments_lexer": "ipython3",
   "version": 3
  },
  "orig_nbformat": 2
 },
 "nbformat": 4,
 "nbformat_minor": 2,
 "cells": [
  {
   "cell_type": "code",
   "execution_count": null,
   "metadata": {},
   "outputs": [],
   "source": [
    "import json \n",
    "import os \n",
    "import logging \n",
    "logger = logging.getLogger(__name__)\n",
    "\n"
   ]
  },
  {
   "cell_type": "code",
   "execution_count": null,
   "metadata": {},
   "outputs": [],
   "source": [
    "from wav2mov.settings import BASE_DIR"
   ]
  },
  {
   "cell_type": "code",
   "execution_count": null,
   "metadata": {},
   "outputs": [],
   "source": [
    "\n",
    "\n",
    "class Params:\n",
    "    def __init__(self):\n",
    "        self.vals = {}\n",
    "       \n",
    "    \n",
    "\n",
    "    def _flatten_dict(self, d):\n",
    "        flattened = {}\n",
    "        for k, v in d.items():\n",
    "            if isinstance(v, dict):\n",
    "                inner_d = self._flatten_dict(v)\n",
    "                flattened = {**flattened, **inner_d}\n",
    "            else:\n",
    "                flattened[k] = v\n",
    "        return flattened\n",
    "\n",
    "    def update(self,key,value):\n",
    "        if key in self.vals:\n",
    "            logger.warning(f'Updating existing parameter {key} : changing from {self.vals[key]} with {value}')\n",
    "        \n",
    "        self.vals[key] = value\n",
    "        \n",
    "    def _update_vals_from_dict(self, d: dict):\n",
    "        self.vals = d\n",
    "        # d = self._flatten_dict(d)\n",
    "        # self.vals = {**self.vals,**d}\n",
    "\n",
    "    @classmethod\n",
    "    def from_json(cls, json_file_fullpath):\n",
    "        with open(json_file_fullpath, 'r') as file:\n",
    "            configs = json.load(file)\n",
    "            obj = cls()\n",
    "            obj._update_vals_from_dict(configs)\n",
    "            return obj\n",
    "\n",
    "    def __getitem__(self, item):\n",
    "        if item not in self.vals:\n",
    "            logger.error(f'{self.__class__.__name__} object has no key called {item}')\n",
    "            raise KeyError(f'No key called {item}')\n",
    "       \n",
    "        return self.vals[item]\n",
    "\n",
    "    def save(self,file_fullpath):\n",
    "        with open(file_fullpath,'w') as file:\n",
    "            json.dump(self.vals,file)\n",
    "\n",
    "\n",
    "\n"
   ]
  },
  {
   "cell_type": "code",
   "execution_count": null,
   "metadata": {},
   "outputs": [],
   "source": [
    "#Singleton Object\n",
    "params = Params.from_json(os.path.join(BASE_DIR, 'params.json'))\n",
    "\n",
    "if __name__ == '__main__':\n",
    "    pass"
   ]
  }
 ]
}