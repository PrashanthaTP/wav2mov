{
 "metadata": {
  "language_info": {
   "codemirror_mode": {
    "name": "ipython",
    "version": 3
   },
   "file_extension": ".py",
   "mimetype": "text/x-python",
   "name": "python",
   "nbconvert_exporter": "python",
   "pygments_lexer": "ipython3",
   "version": 3
  },
  "orig_nbformat": 2
 },
 "nbformat": 4,
 "nbformat_minor": 2,
 "cells": [
  {
   "cell_type": "code",
   "execution_count": null,
   "metadata": {},
   "outputs": [],
   "source": [
    "import time\n",
    "\n",
    "\n"
   ]
  },
  {
   "cell_type": "code",
   "execution_count": null,
   "metadata": {},
   "outputs": [],
   "source": [
    "def log_run_time(logger):\n",
    "    def timeit(func):\n",
    "        def timed(*args, **kwargs):\n",
    "            start_time = time.time()\n",
    "            res = func(*args, **kwargs)\n",
    "            end_time = time.time()\n",
    "            time_taken = end_time-start_time\n",
    "            logger.log(f'[TIME TAKEN] {func.__name__} took {time_taken:0.2f} seconds (or) {time_taken/60:0.2f} minutes',type=\"DEBUG\")\n",
    "            return res\n",
    "        return timed\n",
    "    return timeit\n"
   ]
  },
  {
   "cell_type": "code",
   "execution_count": null,
   "metadata": {},
   "outputs": [],
   "source": [
    "class AverageMeter:\n",
    "    def __init__(self,name,fmt=':0.4f'):\n",
    "      \n",
    "        self.name = name\n",
    "        self.fmt = fmt\n",
    "        self.reset()\n",
    "        \n",
    "    def reset(self):\n",
    "        self.sum = 0\n",
    "        self.count = 0\n",
    "        self.avg = 0\n",
    "    \n",
    "    def _update_average(self):\n",
    "        self.avg = self.sum/self.count \n",
    "        \n",
    "    def update(self,val,n):\n",
    "        self.count +=n\n",
    "        self.sum += val*n \n",
    "        self._update_average()\n",
    "        \n",
    "    def __str__(self):\n",
    "        fmt_str = '{name} : {avg' + self.fmt + '}'\n",
    "        return fmt_str.format(**self.__dict__)\n",
    "    \n",
    "    def add(self,val):\n",
    "        self.sum += val\n",
    "        self._update_average()\n",
    "    "
   ]
  },
  {
   "cell_type": "code",
   "execution_count": null,
   "metadata": {},
   "outputs": [],
   "source": [
    "\n",
    "\n",
    "\n",
    "class AverageMetersList:\n",
    "    def __init__(self, names, fmt=':0.4f'):\n",
    "        self.meters = {name:AverageMeter(name,fmt) for name in names}\n",
    "        \n",
    "    def update(self,d,n):\n",
    "        for name,value in d.items():\n",
    "            self.meters[name].update(value,n)\n",
    "    \n",
    "    def reset(self):\n",
    "        for name in self.meters.keys():\n",
    "            self.meters[name].reset()\n",
    "    \n",
    "    def as_list(self):\n",
    "        return self.meters.values()\n",
    "    \n",
    "    def average(self):\n",
    "        return {name:meter.avg for name,meter in self.meters.items()}\n",
    "    \n",
    "    def get(self,name):\n",
    "        if name not in self.meters:\n",
    "            raise KeyError(f'{name} has not average meter initialized')\n",
    "        return self.meters.get(name)\n",
    "    \n",
    "    def __str__(self):\n",
    "        avg = self.average()\n",
    "        return '\\t'.join(f'{key}:{val:0.4f}' for key,val in avg.items())\n",
    "    \n",
    "\n",
    "    "
   ]
  },
  {
   "cell_type": "code",
   "execution_count": null,
   "metadata": {},
   "outputs": [],
   "source": [
    "class ProgressMeter:\n",
    "    def __init__(self,num_epochs,meters,prefix=''):\n",
    "        self.batch_fmt_str = self._get_epoch_fmt_str(num_epochs)\n",
    "        self.meters = meters\n",
    "        self.prefix = prefix\n",
    "    \n",
    "    def get_display_str(self,epoch):\n",
    "        entries = [self.prefix + self.batch_fmt_str.format(epoch)]\n",
    "        entries += [str(meter) for meter in self.meters]\n",
    "        return '\\t'.join(entries)\n",
    "    \n",
    "    def _get_epoch_fmt_str(self,num_epochs):\n",
    "        num_digits = len(str(num_epochs//1))\n",
    "        fmt = '{:' + str(num_digits) + 'd}/'\n",
    "        return '[' + fmt + fmt.format(num_epochs) + ']'"
   ]
  }
 ]
}