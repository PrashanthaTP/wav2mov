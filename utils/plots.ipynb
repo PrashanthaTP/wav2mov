{
 "metadata": {
  "language_info": {
   "codemirror_mode": {
    "name": "ipython",
    "version": 3
   },
   "file_extension": ".py",
   "mimetype": "text/x-python",
   "name": "python",
   "nbconvert_exporter": "python",
   "pygments_lexer": "ipython3",
   "version": 3
  },
  "orig_nbformat": 2
 },
 "nbformat": 4,
 "nbformat_minor": 2,
 "cells": [
  {
   "cell_type": "code",
   "execution_count": null,
   "metadata": {},
   "outputs": [],
   "source": [
    "from typing import List\n",
    "import torch\n",
    "from torch.functional import Tensor\n",
    "import imageio\n",
    "import numpy as np\n",
    "from matplotlib import pyplot as plt\n"
   ]
  },
  {
   "cell_type": "code",
   "execution_count": null,
   "metadata": {},
   "outputs": [],
   "source": [
    "\n",
    "\n",
    "def show_img(img,cmap='viridis'):\n",
    "    if isinstance(img,np.ndarray):\n",
    "        img_np = img\n",
    "    else:\n",
    "        if len(img.shape)>3:\n",
    "            img = img.squeeze(0)\n",
    "        img_np = img.numpy()\n",
    "        img_np = np.transpose(img_np, (1, 2, 0))\n",
    "    # print(img_np.shape)\n",
    "    # print(img_np)\n",
    "    plt.imshow(img_np,cmap=cmap)\n",
    "    plt.show()"
   ]
  },
  {
   "cell_type": "code",
   "execution_count": null,
   "metadata": {},
   "outputs": [],
   "source": [
    "\n",
    "    # \n",
    "\n",
    "def save_gif(gif_path,images,duration=0.5):    \n",
    "    \"\"\"creates gif \n",
    "\n",
    "    Args:\n",
    "        gif_path (str): path where gif file should be saved\n",
    "        images (torch.funcitonal.Tensor): tensor of images of shape (N,C,H,W)\n",
    "    \"\"\"\n",
    "    if isinstance(images,Tensor):\n",
    "        images = images.numpy()\n",
    "  \n",
    "\n",
    "    images = images.transpose(0,2,3,1).astype('uint8')\n",
    "   \n",
    "    imageio.mimsave(gif_path,images,duration=0.5)"
   ]
  }
 ]
}