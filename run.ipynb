{
 "cells": [
  {
   "cell_type": "code",
   "execution_count": null,
   "metadata": {},
   "outputs": [],
   "source": []
  },
  {
   "cell_type": "code",
   "execution_count": 1,
   "metadata": {},
   "outputs": [
    {
     "name": "stdout",
     "output_type": "stream",
     "text": [
      "usage: main.py [-h] [--log {y,n,yes,no}] [--train {y,n,yes,no}]\n",
      "               [--test {y,n,yes,no}] [--preprocess {y,n,yes,no}]\n",
      "               [--device {cpu,cuda}] [--model_path MODEL_PATH]\n",
      "               [--num_videos NUM_VIDEOS] [--msg MSG]\n",
      "\n",
      "Wav2Mov | End to End Speech to facial animation model\n",
      "\n",
      "optional arguments:\n",
      "  -h, --help            show this help message and exit\n",
      "  --log {y,n,yes,no}    whether to initialize logger (default: y)\n",
      "  --train {y,n,yes,no}  whether to train the model (default: n)\n",
      "  --test {y,n,yes,no}   run test script (default: n)\n",
      "  --preprocess {y,n,yes,no}\n",
      "                        run preprocess script (default: n)\n",
      "  --device {cpu,cuda}   device where processing should be done (default: cuda)\n",
      "  --model_path MODEL_PATH, -path MODEL_PATH\n",
      "                        generator checkpoint fullpath (default: None)\n",
      "  --num_videos NUM_VIDEOS, -v NUM_VIDEOS\n",
      "                        num of videos on which the model should be trained"
     ]
    }
   ],
   "source": [
    "!python main/main.py --help"
   ]
  },
  {
   "cell_type": "code",
   "execution_count": 3,
   "metadata": {},
   "outputs": [
    {
     "name": "stdout",
     "output_type": "stream",
     "text": [
      "total videos : 500\n",
      "initializing Encoder with normal\n",
      "initializing Decoder with normal\n",
      "initializing AudioEnocoder with normal\n",
      "initializing NoiseGenerator with normal\n",
      "initializing Generator with normal\n",
      "initializing GeneratorBW with normal\n",
      "initializing SequenceDiscriminatorCNN with normal\n",
      "initializing PatchDiscriminator with normal\n",
      "initializing SyncDiscriminator with normal\n"
     ]
    },
    {
     "name": "stderr",
     "output_type": "stream",
     "text": [
      "[INFO] train_v3.py :  2021-03-30 01:35:49,523 : line no: 99 : option : num_videos : 50 | mean : 0.516 std: 0.236 | stride :666\n",
      "[INFO] train_v3.py :  2021-03-30 01:35:57,844 : line no: 119 : 5th frame from last of every video is considered as reference image for the generator\n",
      "[INFO] train_v3.py :  2021-03-30 01:35:57,844 : line no: 120 : Training started on cpu\n",
      "[ERROR] main.py :  2021-03-30 01:36:56,851 : line no: 86 : \n",
      "Traceback (most recent call last):\n",
      "  File \"main/main.py\", line 75, in <module>\n",
      "    train(logger, options)\n",
      "  File \"main/main.py\", line 38, in train\n",
      "    train_model(args_options, params, config, train_logger)\n",
      "  File \"E:\\Users\\VS_Code_Workspace\\Python\\VirtualEnvironments\\wav2mov\\wav2mov\\main\\train_v3.py\", line 163, in train_model\n",
      "    losses = model.optimize_parameters()\n",
      "  File \"E:\\Users\\VS_Code_Workspace\\Python\\VirtualEnvironments\\wav2mov\\wav2mov\\models\\wav2mov_2.py\", line 188, in optimize_parameters\n",
      "    losses['sync_disc'] = self.backward_sync_disc()\n",
      "  File \"E:\\Users\\VS_Code_Workspace\\Python\\VirtualEnvironments\\wav2mov\\wav2mov\\models\\wav2mov_2.py\", line 156, in backward_sync_disc\n",
      "    self.scaler.scale(loss_d).backward()\n",
      "  File \"E:\\Users\\VS_Code_Workspace\\Python\\VirtualEnvironments\\wav2mov\\lib\\site-packages\\torch\\cuda\\amp\\grad_scaler.py\", line 161, in scale\n",
      "    assert outputs.is_cuda\n",
      "AssertionError\n"
     ]
    }
   ],
   "source": [
    "!python main/main.py --train=y -v=50 "
   ]
  },
  {
   "cell_type": "code",
   "execution_count": null,
   "metadata": {},
   "outputs": [],
   "source": []
  }
 ],
 "metadata": {
  "kernelspec": {
   "display_name": "iwav2mov",
   "language": "python",
   "name": "iwav2mov"
  },
  "language_info": {
   "codemirror_mode": {
    "name": "ipython",
    "version": 3
   },
   "file_extension": ".py",
   "mimetype": "text/x-python",
   "name": "python",
   "nbconvert_exporter": "python",
   "pygments_lexer": "ipython3",
   "version": "3.7.2"
  }
 },
 "nbformat": 4,
 "nbformat_minor": 2
}
